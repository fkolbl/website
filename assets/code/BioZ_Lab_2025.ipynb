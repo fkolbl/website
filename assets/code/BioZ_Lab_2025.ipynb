{
 "cells": [
  {
   "cell_type": "markdown",
   "id": "9312f05b",
   "metadata": {},
   "source": [
    "# Bio-Impedance measurement and modeling\n",
    "\n",
    "This notebook will guide you through the lab on bio-impedance measurement and modeling. The objective here is to ensure you can focus on measures and scientific interpretation. We will need some code, here for this application in *Python*, but if you never used it, do not panic as it should be almost clickable and as you are not graded, if something does not work, rise your hand and ask for help!\n",
    "\n",
    "The following code should be executed once at the begining, and if something goes wrong, you may want to re-click on the 'run' button."
   ]
  },
  {
   "cell_type": "code",
   "execution_count": null,
   "id": "32d2b552",
   "metadata": {},
   "outputs": [],
   "source": [
    "import bimms\n",
    "import numpy as np\n",
    "import matplotlib.pyplot as plt\n",
    "\n",
    "# this line create an instance of the BIMMS class\n",
    "# we will use it everytime we want to do a measurement\n",
    "MSetup = bimms.BIMMS()"
   ]
  },
  {
   "cell_type": "markdown",
   "id": "77cb07c0",
   "metadata": {},
   "source": [
    "From now on, we will perform measurements step by step and try to understand what we are looking in the results.\n",
    "\n",
    "## Measurements in 2- and 4- points configurations\n",
    "\n",
    "### A simple first 2-points measurement\n",
    "Your setup contains for the moment 4 wires, respect carefully the color scheme from the board to the pins of your electrodes. For the moment we will only use two of the four electrodes: the two central ones. This configuration is called a\n",
    "2-points configuration and corresponds to the impedance measurement of an electrical dipole. Run the following measurement **with the electrode in the default saline solution**."
   ]
  },
  {
   "cell_type": "code",
   "execution_count": null,
   "id": "c23eacef",
   "metadata": {},
   "outputs": [],
   "source": [
    "Gain_IRO = 20\n",
    "Gain_VRO = 20\n",
    "fmin = 100\n",
    "fmax = 1e7\n",
    "n_pts = 101\n",
    "settling_time = 0.01\n",
    "nperiods = 16\n",
    "I_stim = 100 #100uA excitation\n",
    "\n",
    "MSetup.config.excitation_mode(\"G_EIS\")\n",
    "MSetup.config.wire_mode(\"2_WIRE\")\n",
    "MSetup.config.excitation_signaling_mode(\"SE\")\n",
    "MSetup.config.excitation_coupling(\"DC\")\n",
    "MSetup.config.G_EIS_gain(\"HIGH\")\n",
    "\n",
    "MSetup.config.IRO_gain(Gain_IRO)\n",
    "MSetup.config.VRO_gain(Gain_VRO)\n",
    "MSetup.config.I_amplitude = I_stim \n",
    "\n",
    "\n",
    "m_2points = bimms.EIS(fmin=fmin,fmax=fmax,n_pts=n_pts,settling_time=settling_time,nperiods=nperiods)\n",
    "MSetup.attach_measure(m_2points)\n",
    "results_2points = MSetup.measure()"
   ]
  },
  {
   "cell_type": "code",
   "execution_count": null,
   "id": "16b3449e",
   "metadata": {},
   "outputs": [],
   "source": [
    "fig, (ax1, ax2) = plt.subplots(2, 1)\n",
    "ax1.loglog(results_2points['freq'],results_2points['mag_Z'])\n",
    "ax1.set_ylabel('Magnitude (Ohm)')\n",
    "ax1.set_xlabel('Frequency (Hz)')\n",
    "ax1.grid(True)\n",
    "\n",
    "ax2.semilogx(results_2points['freq'],np.mod(results_2points['phase_Z'] + 180, 360) - 180)\n",
    "ax2.set_ylabel('Phase (deg)')\n",
    "ax2.set_xlabel('Frequency (Hz)')\n",
    "ax2.grid(True)\n",
    "ax2.set_ylim([-180, 180])"
   ]
  },
  {
   "cell_type": "markdown",
   "id": "3232e98b",
   "metadata": {},
   "source": [
    "YOUR COMMENTS:\n",
    "--------------\n",
    "..."
   ]
  },
  {
   "cell_type": "markdown",
   "id": "7191c22d",
   "metadata": {},
   "source": [
    "Take the time to analyse what you can observe, and what different zones in the bandwith can be distinguished ? Try to analyse to what it corresponds in the following list:\n",
    "- electrode parasitics,\n",
    "- metal-electrolyte junction,\n",
    "- electrolyte impedance.\n",
    "\n",
    "To what simple dipole corresponds each zone?\n",
    "\n",
    "### Comparison between 2- and 4-points\n",
    "the following code will re-rum the measure but with both configurations. We will try to see why the 4-points (more complex apparently) is interesting\n"
   ]
  },
  {
   "cell_type": "code",
   "execution_count": null,
   "id": "446758ae",
   "metadata": {},
   "outputs": [],
   "source": [
    "# Perform the measurement in 4-points configuration\n",
    "MSetup.config.wire_mode(\"4_WIRE\")\n",
    "\n",
    "m_4points = bimms.EIS(fmin=fmin,fmax=fmax,n_pts=n_pts,settling_time=settling_time,nperiods=nperiods)\n",
    "MSetup.attach_measure(m_4points)\n",
    "results_4points = MSetup.measure()\n"
   ]
  },
  {
   "cell_type": "code",
   "execution_count": null,
   "id": "829efe17",
   "metadata": {},
   "outputs": [],
   "source": [
    "# plot the results\n",
    "fig, (ax1, ax2) = plt.subplots(2, 1)\n",
    "ax1.semilogx(results_2points['freq'],results_2points['mag_Z'], color='blue', label='2-points')\n",
    "ax1.semilogx(results_4points['freq'],results_4points['mag_Z'], color='red', label='4-points')\n",
    "ax1.legend()\n",
    "ax1.set_ylabel('Magnitude (Ohm)')\n",
    "ax1.set_xlabel('Frequency (Hz)')\n",
    "ax1.grid(True)\n",
    "\n",
    "ax2.semilogx(results_2points['freq'],np.mod(results_2points['phase_Z'], 180), color='blue', label='2-points')\n",
    "ax2.semilogx(results_4points['freq'],np.mod(results_4points['phase_Z'], 180), color='red', label='4-points')\n",
    "ax2.legend()\n",
    "ax2.set_ylabel('Phase (deg)')\n",
    "ax2.set_xlabel('Frequency (Hz)')\n",
    "ax2.grid(True)\n",
    "ax2.set_ylim([-180, 180])"
   ]
  },
  {
   "cell_type": "markdown",
   "id": "31c049e8",
   "metadata": {},
   "source": [
    "Try to analyse the comparison of the 2- and 4-points results with the same criteria as previously. What is the interest of this technique ?"
   ]
  },
  {
   "cell_type": "markdown",
   "id": "f10bd3e3",
   "metadata": {},
   "source": [
    "YOUR COMMENTS:\n",
    "--------------\n",
    "..."
   ]
  },
  {
   "cell_type": "markdown",
   "id": "0002df5b",
   "metadata": {},
   "source": [
    "## Measuring a sample impedance\n",
    "\n",
    "OK, right, now we know that we observe a sample (biosample in our case) using the 4-points measurement. That rises the question of exactly what we measure. Let's play a little bit!\n",
    "\n",
    "### Measurement on saline solutions\n",
    "\n",
    "We will measure now something easy to understand: just saline solution. As we just saw, this should be only resistive with ionic conduction. On your table you have 3 different concentrations of saline solution."
   ]
  },
  {
   "cell_type": "code",
   "execution_count": null,
   "id": "0ef77502",
   "metadata": {},
   "outputs": [],
   "source": [
    "all_results = []\n",
    "for k in range(3):\n",
    "    input(\"Put the electrodes in the \"+str(k+1)+\"-th saline solution and press Enter to continue... \")\n",
    "    \n",
    "    # measurement\n",
    "    MSetup.attach_measure(m_4points)\n",
    "    results_4points = MSetup.measure()\n",
    "    all_results.append(results_4points)\n"
   ]
  },
  {
   "cell_type": "markdown",
   "id": "2a6cdd6d",
   "metadata": {},
   "source": [
    "let us plot all the results on a unique figure, to try to compare them"
   ]
  },
  {
   "cell_type": "code",
   "execution_count": null,
   "id": "c8fbef18",
   "metadata": {},
   "outputs": [],
   "source": [
    "# plot the results\n",
    "fig, (ax1, ax2) = plt.subplots(2, 1)\n",
    "for k in range(3):\n",
    "    ax1.semilogx(all_results[k]['freq'], all_results[k]['mag_Z'], label='Solution '+str(k+1))\n",
    "    ax2.semilogx(all_results[k]['freq'], all_results[k]['phase_Z'], label='Solution '+str(k+1))\n",
    "\n",
    "ax1.set_title('Saline Solutions Impedance Measurement')\n",
    "ax1.set_ylabel('Magnitude (Ohm)')\n",
    "ax1.set_xlabel('Frequency (Hz)')\n",
    "ax1.legend()\n",
    "ax1.grid(True)\n",
    "ax2.set_ylabel('Phase (deg)')\n",
    "ax2.set_xlabel('Frequency (Hz)')\n",
    "ax2.grid(True)\n",
    "ax2.set_ylim([-180, 180])\n",
    "ax1.legend()"
   ]
  },
  {
   "cell_type": "markdown",
   "id": "29b44bfe",
   "metadata": {},
   "source": [
    "Can you retrieve the range of the impedance using a theoretical result ?\n",
    "\n",
    "How does the observed impedance evolve between the different solutions you measured?\n",
    "\n",
    "How does the curve evolve in higher frequencies?"
   ]
  },
  {
   "cell_type": "markdown",
   "id": "dd69f78c",
   "metadata": {},
   "source": [
    "YOUR COMMENTS:\n",
    "--------------\n",
    "..."
   ]
  },
  {
   "cell_type": "markdown",
   "id": "19edea25",
   "metadata": {},
   "source": [
    "## Measurement on something biologic\n",
    "\n",
    "Let us try now on a biological sample, we will use the potato! Please run the simulation next, and we will try to see if I just told you something that makes sens or not. Don't forget to put the electrodes in the vegetable and execute the following code:"
   ]
  },
  {
   "cell_type": "code",
   "execution_count": null,
   "id": "b68489b3",
   "metadata": {},
   "outputs": [],
   "source": [
    "# Perform the measurement in 4-points configuration\n",
    "\n",
    "m_raw_potato = bimms.EIS(fmin=fmin,fmax=fmax,n_pts=n_pts,settling_time=settling_time,nperiods=nperiods)\n",
    "MSetup.attach_measure(m_raw_potato)\n",
    "results_raw_potato = MSetup.measure()"
   ]
  },
  {
   "cell_type": "code",
   "execution_count": null,
   "id": "6a306cac",
   "metadata": {},
   "outputs": [],
   "source": [
    "# plot the results\n",
    "fig, (ax1, ax2) = plt.subplots(2, 1)\n",
    "ax1.semilogx(results_raw_potato['freq'], results_raw_potato['mag_Z'], color='green', label='Potato')\n",
    "ax1.set_ylabel('Magnitude (Ohm)')\n",
    "ax1.set_xlabel('Frequency (Hz)')\n",
    "ax1.grid(True)\n",
    "\n",
    "ax2.semilogx(results_raw_potato['freq'], np.mod(results_raw_potato['phase_Z'], 180), color='green', label='Potato')\n",
    "ax2.set_ylabel('Phase (deg)')\n",
    "ax2.set_xlabel('Frequency (Hz)')\n",
    "ax2.grid(True)\n",
    "ax2.set_ylim([-180, 180])\n",
    "ax1.legend()\n",
    "ax2.legend()"
   ]
  },
  {
   "cell_type": "markdown",
   "id": "c7c580ce",
   "metadata": {},
   "source": [
    "What zones of impedance can you identify by looking at the curve? To what model does it look like? Can you find values for the dipoles?"
   ]
  },
  {
   "cell_type": "markdown",
   "id": "26e45037",
   "metadata": {},
   "source": [
    "YOUR COMMENTS:\n",
    "--------------\n",
    "..."
   ]
  },
  {
   "cell_type": "markdown",
   "id": "49ce444d",
   "metadata": {},
   "source": [
    "### What if the potato is cooked?\n",
    "\n",
    "To be sure it is exactly what I described in theory, let's use a cooked potato to see what happens. Change the electrodes to the 'lesioned' sample and run the following code:"
   ]
  },
  {
   "cell_type": "code",
   "execution_count": null,
   "id": "540fbef2",
   "metadata": {},
   "outputs": [],
   "source": [
    "# Perform the measurement in 4-points configuration\n",
    "\n",
    "m_cooked_potato = bimms.EIS(fmin=fmin,fmax=fmax,n_pts=n_pts,settling_time=settling_time,nperiods=nperiods)\n",
    "MSetup.attach_measure(m_cooked_potato)\n",
    "results_cooked_potato = MSetup.measure()"
   ]
  },
  {
   "cell_type": "code",
   "execution_count": null,
   "id": "3c302b57",
   "metadata": {},
   "outputs": [],
   "source": [
    "# plot the results\n",
    "fig, (ax1, ax2) = plt.subplots(2, 1)\n",
    "ax1.semilogx(results_raw_potato['freq'], results_raw_potato['mag_Z'], color='green', label='Potato')\n",
    "ax1.semilogx(results_cooked_potato['freq'], results_cooked_potato['mag_Z'], color='orange', label='Cooked Potato')\n",
    "ax1.set_ylabel('Magnitude (Ohm)')\n",
    "ax1.set_xlabel('Frequency (Hz)')\n",
    "ax1.grid(True)\n",
    "\n",
    "ax2.semilogx(results_raw_potato['freq'], np.mod(results_raw_potato['phase_Z'], 180), color='green', label='Potato')\n",
    "ax2.semilogx(results_cooked_potato['freq'], np.mod(results_cooked_potato['phase_Z'], 180), color='orange', label='Cooked Potato')\n",
    "ax2.set_ylabel('Phase (deg)')\n",
    "ax2.set_xlabel('Frequency (Hz)')\n",
    "ax2.grid(True)\n",
    "ax2.set_ylim([-180, 180])\n",
    "ax1.legend()\n",
    "ax2.legend()"
   ]
  },
  {
   "cell_type": "markdown",
   "id": "f1e45f86",
   "metadata": {},
   "source": [
    "What can you observe and deduce?"
   ]
  },
  {
   "cell_type": "markdown",
   "id": "895983d9",
   "metadata": {},
   "source": [
    "YOUR COMMENTS:\n",
    "--------------\n",
    "..."
   ]
  },
  {
   "cell_type": "code",
   "execution_count": null,
   "id": "f8d28302",
   "metadata": {},
   "outputs": [],
   "source": [
    "del(MSetup)"
   ]
  }
 ],
 "metadata": {
  "kernelspec": {
   "display_name": "test_tp",
   "language": "python",
   "name": "python3"
  },
  "language_info": {
   "codemirror_mode": {
    "name": "ipython",
    "version": 3
   },
   "file_extension": ".py",
   "mimetype": "text/x-python",
   "name": "python",
   "nbconvert_exporter": "python",
   "pygments_lexer": "ipython3",
   "version": "3.13.5"
  }
 },
 "nbformat": 4,
 "nbformat_minor": 5
}
